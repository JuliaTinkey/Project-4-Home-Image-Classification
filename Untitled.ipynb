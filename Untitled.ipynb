{
 "cells": [
  {
   "cell_type": "code",
   "execution_count": null,
   "id": "440015a1",
   "metadata": {},
   "outputs": [],
   "source": []
  },
  {
   "cell_type": "code",
   "execution_count": null,
   "id": "35b69916",
   "metadata": {},
   "outputs": [],
   "source": []
  },
  {
   "cell_type": "code",
   "execution_count": null,
   "id": "ede48fed",
   "metadata": {},
   "outputs": [],
   "source": [
    "# Load images in folder and return images as a list\n",
    "def load_images_from_folder(folder):\n",
    "    images = []\n",
    "    for filename in os.listdir(folder):\n",
    "        if filename.endswith(\".jpg\"):\n",
    "            img = Image.open(os.path.join(folder,filename))\n",
    "            if img is not None:\n",
    "                images.append(img)\n",
    "    return images"
   ]
  },
  {
   "cell_type": "code",
   "execution_count": null,
   "id": "f74a6dc4",
   "metadata": {},
   "outputs": [],
   "source": [
    "imagesNew = load_images_from_folder(\"/content/drive/MyDrive/Modern\")\n",
    "imagesOld = load_images_from_folder(\"/content/drive/MyDrive/Traditional\")"
   ]
  },
  {
   "cell_type": "code",
   "execution_count": null,
   "id": "160be94c",
   "metadata": {},
   "outputs": [],
   "source": [
    "import subprocess\n",
    "\n",
    "# Run the preprocess.py script with the specified images as arguments\n",
    "subprocess.run(['python', 'preprocess.py'] + imagesNew)\n"
   ]
  },
  {
   "cell_type": "code",
   "execution_count": null,
   "id": "4f2ad21b",
   "metadata": {},
   "outputs": [],
   "source": []
  }
 ],
 "metadata": {
  "kernelspec": {
   "display_name": "Python 3 (ipykernel)",
   "language": "python",
   "name": "python3"
  },
  "language_info": {
   "codemirror_mode": {
    "name": "ipython",
    "version": 3
   },
   "file_extension": ".py",
   "mimetype": "text/x-python",
   "name": "python",
   "nbconvert_exporter": "python",
   "pygments_lexer": "ipython3",
   "version": "3.9.13"
  }
 },
 "nbformat": 4,
 "nbformat_minor": 5
}
