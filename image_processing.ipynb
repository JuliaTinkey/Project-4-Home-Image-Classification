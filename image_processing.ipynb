{
 "cells": [
  {
   "cell_type": "code",
   "execution_count": null,
   "id": "65a086b8",
   "metadata": {},
   "outputs": [],
   "source": [
    "from tensorflow.keras.preprocessing.image import ImageDataGenerator"
   ]
  },
  {
   "cell_type": "code",
   "execution_count": null,
   "id": "c7a578b9",
   "metadata": {},
   "outputs": [],
   "source": [
    "# Create an image data generator object\n",
    "datagen = ImageDataGenerator(rescale=1./255)  # normalize pixel values\n",
    "\n",
    "# Load the images from the directory\n",
    "image_directory = '/path/to/your/images'  # replace with your actual directory\n",
    "img_iter = datagen.flow_from_directory(image_directory, target_size=(200, 200), \n",
    "                                       color_mode='rgb', class_mode='categorical')"
   ]
  },
  {
   "cell_type": "code",
   "execution_count": null,
   "id": "5ecc3667",
   "metadata": {},
   "outputs": [],
   "source": [
    "datagen = ImageDataGenerator(rescale=1./255, validation_split=0.2)  # 20% validation split\n",
    "\n",
    "train_iter = datagen.flow_from_directory(image_directory, target_size=(200, 200), \n",
    "                                         color_mode='rgb', class_mode='categorical', subset='training')\n",
    "val_iter = datagen.flow_from_directory(image_directory, target_size=(200, 200), \n",
    "                                       color_mode='rgb', class_mode='categorical', subset='validation')\n"
   ]
  },
  {
   "cell_type": "code",
   "execution_count": null,
   "id": "fe8c1649",
   "metadata": {},
   "outputs": [],
   "source": [
    "from tensorflow.keras.models import Sequential\n",
    "from tensorflow.keras.layers import Conv2D, MaxPooling2D, Flatten, Dense\n",
    "\n",
    "model = Sequential()\n",
    "model.add(Conv2D(32, (3, 3), activation='relu', input_shape=(200, 200, 3)))  # 3 for RGB\n",
    "model.add(MaxPooling2D((2, 2)))\n",
    "model.add(Conv2D(64, (3, 3), activation='relu'))\n",
    "model.add(MaxPooling2D((2, 2)))\n",
    "model.add(Flatten())\n",
    "model.add(Dense(64, activation='relu'))\n",
    "model.add(Dense(num_classes, activation='softmax'))  # replace num_classes with your actual number of classes\n"
   ]
  },
  {
   "cell_type": "code",
   "execution_count": null,
   "id": "8eabc2f3",
   "metadata": {},
   "outputs": [],
   "source": [
    "model.compile(optimizer='adam', loss='categorical_crossentropy', metrics=['accuracy'])\n",
    "model.fit(train_iter, validation_data=val_iter, epochs=10)\n"
   ]
  },
  {
   "cell_type": "code",
   "execution_count": null,
   "id": "0f512dbd",
   "metadata": {},
   "outputs": [],
   "source": []
  }
 ],
 "metadata": {
  "kernelspec": {
   "display_name": "Python 3 (ipykernel)",
   "language": "python",
   "name": "python3"
  },
  "language_info": {
   "codemirror_mode": {
    "name": "ipython",
    "version": 3
   },
   "file_extension": ".py",
   "mimetype": "text/x-python",
   "name": "python",
   "nbconvert_exporter": "python",
   "pygments_lexer": "ipython3",
   "version": "3.9.13"
  }
 },
 "nbformat": 4,
 "nbformat_minor": 5
}
